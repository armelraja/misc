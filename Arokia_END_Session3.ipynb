{
  "nbformat": 4,
  "nbformat_minor": 0,
  "metadata": {
    "colab": {
      "name": "Arokia_END_Session3.ipynb",
      "provenance": [],
      "collapsed_sections": [],
      "include_colab_link": true
    },
    "kernelspec": {
      "name": "python3",
      "display_name": "Python 3"
    }
  },
  "cells": [
    {
      "cell_type": "markdown",
      "metadata": {
        "id": "view-in-github",
        "colab_type": "text"
      },
      "source": [
        "<a href=\"https://colab.research.google.com/github/armelraja/misc/blob/master/Arokia_END_Session3.ipynb\" target=\"_parent\"><img src=\"https://colab.research.google.com/assets/colab-badge.svg\" alt=\"Open In Colab\"/></a>"
      ]
    },
    {
      "cell_type": "code",
      "metadata": {
        "id": "B1WB7Wi6VlnQ"
      },
      "source": [
        "import numpy as np\n",
        "import re\n",
        "from functools import reduce, partial\n",
        "import random, string"
      ],
      "execution_count": 2,
      "outputs": []
    },
    {
      "cell_type": "markdown",
      "metadata": {
        "id": "x715Dk5TVBy0"
      },
      "source": [
        "\n",
        "2.\n",
        " Using list comprehension (and zip/lambda/etc if required) write five different expressions that:\n",
        "\n",
        "\n"
      ]
    },
    {
      "cell_type": "code",
      "metadata": {
        "id": "ocZIY_t0jfy5",
        "outputId": "614e84f6-d6e7-464b-bf4f-8197dfcc1c3a",
        "colab": {
          "base_uri": "https://localhost:8080/"
        }
      },
      "source": [
        "# * add 2 iterables a and b such that a is even and b is odd\n",
        "list1 = [1,4,5]\n",
        "list2 = [1,5,6]\n",
        "print(list1)\n",
        "print(list2)\n",
        "[x+y for x,y in zip(list1,list2) if (x%2 == 0) and (y%2 != 0)]"
      ],
      "execution_count": 29,
      "outputs": [
        {
          "output_type": "stream",
          "text": [
            "[1, 4, 5]\n",
            "[1, 5, 6]\n"
          ],
          "name": "stdout"
        },
        {
          "output_type": "execute_result",
          "data": {
            "text/plain": [
              "[9]"
            ]
          },
          "metadata": {
            "tags": []
          },
          "execution_count": 29
        }
      ]
    },
    {
      "cell_type": "code",
      "metadata": {
        "id": "P3LllFNCVFVR",
        "outputId": "3b56daeb-0ee4-4251-f393-7cb31487a1c2",
        "colab": {
          "base_uri": "https://localhost:8080/"
        }
      },
      "source": [
        "# * strips every vowel from a string provided (tsai>>t s)\n",
        "v = ['a', 'i', 'e', 'o', 'u']\n",
        "s = 'tsai'\n",
        "result = [x for x in s if x not in v]\n",
        "print(' '.join(result))"
      ],
      "execution_count": 32,
      "outputs": [
        {
          "output_type": "stream",
          "text": [
            "t s\n"
          ],
          "name": "stdout"
        }
      ]
    },
    {
      "cell_type": "code",
      "metadata": {
        "id": "7LLKWlCa1sqk",
        "outputId": "48880d02-08ac-4afc-a70e-dd7dcbd24dfb",
        "colab": {
          "base_uri": "https://localhost:8080/"
        }
      },
      "source": [
        "# * acts like a ReLU function for a 1D array\n",
        "list1 = [1,-4,5,-2,0]\n",
        "f = lambda x: x * (x>0)\n",
        "print([f(x) for x in list(filter(lambda x: x >= 0, list1))])"
      ],
      "execution_count": 37,
      "outputs": [
        {
          "output_type": "stream",
          "text": [
            "[1, 5, 0]\n"
          ],
          "name": "stdout"
        }
      ]
    },
    {
      "cell_type": "code",
      "metadata": {
        "id": "R9Y1o7fH2m_M",
        "outputId": "88eba401-781b-4e3d-f2d9-1e281e1af962",
        "colab": {
          "base_uri": "https://localhost:8080/"
        }
      },
      "source": [
        "# acts like a sigmoid function for a 1D array\n",
        "f = lambda x: 1/(1 + np.exp(-x))\n",
        "list1 = [1,-4,5,-2,0]\n",
        "print([f(x) for x in list1])"
      ],
      "execution_count": 39,
      "outputs": [
        {
          "output_type": "stream",
          "text": [
            "[0.7310585786300049, 0.01798620996209156, 0.9933071490757153, 0.11920292202211755, 0.5]\n"
          ],
          "name": "stdout"
        }
      ]
    },
    {
      "cell_type": "code",
      "metadata": {
        "id": "Og0FJQWsVj-m",
        "outputId": "940c8b4f-4e3d-4ffb-a7ac-2bd8b722b31a",
        "colab": {
          "base_uri": "https://localhost:8080/",
          "height": 35
        }
      },
      "source": [
        "# takes a small character string and shifts all characters by 5 (handle boundary conditions) tsai>>yxfn\n",
        "def shift(x): return chr(ord(x) + 5)\n",
        "\n",
        "str1 = 'tsai'\n",
        "last_alpha = ['v', 'w', 'x', 'y', 'z']\n",
        "numlist = list(range(97, 102))\n",
        "somedict = dict(zip(last_alpha, numlist))\n",
        "''.join([shift(x) if ord(x) < 118 else chr(somedict[x])\n",
        "         for x in somestring.lower()])"
      ],
      "execution_count": null,
      "outputs": [
        {
          "output_type": "execute_result",
          "data": {
            "application/vnd.google.colaboratory.intrinsic+json": {
              "type": "string"
            },
            "text/plain": [
              "'yxfn'"
            ]
          },
          "metadata": {
            "tags": []
          },
          "execution_count": 16
        }
      ]
    },
    {
      "cell_type": "markdown",
      "metadata": {
        "id": "g19eYM42VwmK"
      },
      "source": [
        "3.\n",
        "A list comprehension expression that takes a ~200 word paragraph (write your own paragraph to check), and checks whether it has any of the swear words mentioned in https://github.com/RobertJGabriel/Google-profanity-words/blob/master/list.txt"
      ]
    },
    {
      "cell_type": "code",
      "metadata": {
        "id": "pTaG_mDvVwGD"
      },
      "source": [
        "s = '''\n",
        "4r5e\n",
        "5h1t\n",
        "5hit\n",
        "a55\n",
        "anal\n",
        "anus\n",
        "ar5e\n",
        "arrse\n",
        "arse\n",
        "ass\n",
        "ass-fucker\n",
        "asses\n",
        "assfucker\n",
        "assfukka\n",
        "asshole\n",
        "assholes\n",
        "asswhole\n",
        "a_s_s\n",
        "b!tch\n",
        "b00bs\n",
        "b17ch\n",
        "b1tch\n",
        "ballbag\n",
        "balls\n",
        "ballsack\n",
        "bastard\n",
        "beastial\n",
        "beastiality\n",
        "bellend\n",
        "bestial\n",
        "bestiality\n",
        "bi+ch\n",
        "biatch\n",
        "bitch\n",
        "bitcher\n",
        "bitchers\n",
        "bitches\n",
        "bitchin\n",
        "bitching\n",
        "bloody\n",
        "blow job\n",
        "blowjob\n",
        "blowjobs\n",
        "boiolas\n",
        "bollock\n",
        "bollok\n",
        "boner\n",
        "boob\n",
        "boobs\n",
        "booobs\n",
        "boooobs\n",
        "booooobs\n",
        "booooooobs\n",
        "breasts\n",
        "buceta\n",
        "bugger\n",
        "bum\n",
        "bunny fucker\n",
        "butt\n",
        "butthole\n",
        "buttmunch\n",
        "buttplug\n",
        "c0ck\n",
        "c0cksucker\n",
        "carpet muncher\n",
        "cawk\n",
        "chink\n",
        "cipa\n",
        "cl1t\n",
        "clit\n",
        "clitoris\n",
        "clits\n",
        "cnut\n",
        "cock\n",
        "cock-sucker\n",
        "cockface\n",
        "cockhead\n",
        "cockmunch\n",
        "cockmuncher\n",
        "cocks\n",
        "cocksuck \n",
        "cocksucked \n",
        "cocksucker\n",
        "cocksucking\n",
        "cocksucks \n",
        "cocksuka\n",
        "cocksukka\n",
        "cok\n",
        "cokmuncher\n",
        "coksucka\n",
        "coon\n",
        "cox\n",
        "crap\n",
        "cum\n",
        "cummer\n",
        "cumming\n",
        "cums\n",
        "cumshot\n",
        "cunilingus\n",
        "cunillingus\n",
        "cunnilingus\n",
        "cunt\n",
        "cuntlick \n",
        "cuntlicker \n",
        "cuntlicking \n",
        "cunts\n",
        "cyalis\n",
        "cyberfuc\n",
        "cyberfuck \n",
        "cyberfucked \n",
        "cyberfucker\n",
        "cyberfuckers\n",
        "cyberfucking \n",
        "d1ck\n",
        "damn\n",
        "dick\n",
        "dickhead\n",
        "dildo\n",
        "dildos\n",
        "dink\n",
        "dinks\n",
        "dirsa\n",
        "dlck\n",
        "dog-fucker\n",
        "doggin\n",
        "dogging\n",
        "donkeyribber\n",
        "doosh\n",
        "duche\n",
        "dyke\n",
        "ejaculate\n",
        "ejaculated\n",
        "ejaculates \n",
        "ejaculating \n",
        "ejaculatings\n",
        "ejaculation\n",
        "ejakulate\n",
        "f u c k\n",
        "f u c k e r\n",
        "f4nny\n",
        "fag\n",
        "fagging\n",
        "faggitt\n",
        "faggot\n",
        "faggs\n",
        "fagot\n",
        "fagots\n",
        "fags\n",
        "fanny\n",
        "fannyflaps\n",
        "fannyfucker\n",
        "fanyy\n",
        "fatass\n",
        "fcuk\n",
        "fcuker\n",
        "fcuking\n",
        "feck\n",
        "fecker\n",
        "felching\n",
        "fellate\n",
        "fellatio\n",
        "fingerfuck \n",
        "fingerfucked \n",
        "fingerfucker \n",
        "fingerfuckers\n",
        "fingerfucking \n",
        "fingerfucks \n",
        "fistfuck\n",
        "fistfucked \n",
        "fistfucker \n",
        "fistfuckers \n",
        "fistfucking \n",
        "fistfuckings \n",
        "fistfucks \n",
        "flange\n",
        "fook\n",
        "fooker\n",
        "fuck\n",
        "fucka\n",
        "fucked\n",
        "fucker\n",
        "fuckers\n",
        "fuckhead\n",
        "fuckheads\n",
        "fuckin\n",
        "fucking\n",
        "fuckings\n",
        "fuckingshitmotherfucker\n",
        "fuckme \n",
        "fucks\n",
        "fuckwhit\n",
        "fuckwit\n",
        "fudge packer\n",
        "fudgepacker\n",
        "fuk\n",
        "fuker\n",
        "fukker\n",
        "fukkin\n",
        "fuks\n",
        "fukwhit\n",
        "fukwit\n",
        "fux\n",
        "fux0r\n",
        "f_u_c_k\n",
        "gangbang\n",
        "gangbanged \n",
        "gangbangs \n",
        "gaylord\n",
        "gaysex\n",
        "goatse\n",
        "God\n",
        "god-dam\n",
        "god-damned\n",
        "goddamn\n",
        "goddamned\n",
        "hardcoresex \n",
        "hell\n",
        "heshe\n",
        "hoar\n",
        "hoare\n",
        "hoer\n",
        "homo\n",
        "hore\n",
        "horniest\n",
        "horny\n",
        "hotsex\n",
        "jack-off \n",
        "jackoff\n",
        "jap\n",
        "jerk-off \n",
        "jism\n",
        "jiz \n",
        "jizm \n",
        "jizz\n",
        "kawk\n",
        "knob\n",
        "knobead\n",
        "knobed\n",
        "knobend\n",
        "knobhead\n",
        "knobjocky\n",
        "knobjokey\n",
        "kock\n",
        "kondum\n",
        "kondums\n",
        "kum\n",
        "kummer\n",
        "kumming\n",
        "kums\n",
        "kunilingus\n",
        "l3i+ch\n",
        "l3itch\n",
        "labia\n",
        "lmfao\n",
        "lust\n",
        "lusting\n",
        "m0f0\n",
        "m0fo\n",
        "m45terbate\n",
        "ma5terb8\n",
        "ma5terbate\n",
        "masochist\n",
        "master-bate\n",
        "masterb8\n",
        "masterbat*\n",
        "masterbat3\n",
        "masterbate\n",
        "masterbation\n",
        "masterbations\n",
        "masturbate\n",
        "mo-fo\n",
        "mof0\n",
        "mofo\n",
        "mothafuck\n",
        "mothafucka\n",
        "mothafuckas\n",
        "mothafuckaz\n",
        "mothafucked \n",
        "mothafucker\n",
        "mothafuckers\n",
        "mothafuckin\n",
        "mothafucking \n",
        "mothafuckings\n",
        "mothafucks\n",
        "mother fucker\n",
        "motherfuck\n",
        "motherfucked\n",
        "motherfucker\n",
        "motherfuckers\n",
        "motherfuckin\n",
        "motherfucking\n",
        "motherfuckings\n",
        "motherfuckka\n",
        "motherfucks\n",
        "muff\n",
        "mutha\n",
        "muthafecker\n",
        "muthafuckker\n",
        "muther\n",
        "mutherfucker\n",
        "n1gga\n",
        "n1gger\n",
        "nazi\n",
        "nigg3r\n",
        "nigg4h\n",
        "nigga\n",
        "niggah\n",
        "niggas\n",
        "niggaz\n",
        "nigger\n",
        "niggers \n",
        "nob\n",
        "nob jokey\n",
        "nobhead\n",
        "nobjocky\n",
        "nobjokey\n",
        "numbnuts\n",
        "nutsack\n",
        "orgasim \n",
        "orgasims \n",
        "orgasm\n",
        "orgasms \n",
        "p0rn\n",
        "pawn\n",
        "pecker\n",
        "penis\n",
        "penisfucker\n",
        "phonesex\n",
        "phuck\n",
        "phuk\n",
        "phuked\n",
        "phuking\n",
        "phukked\n",
        "phukking\n",
        "phuks\n",
        "phuq\n",
        "pigfucker\n",
        "pimpis\n",
        "piss\n",
        "pissed\n",
        "pisser\n",
        "pissers\n",
        "pisses \n",
        "pissflaps\n",
        "pissin \n",
        "pissing\n",
        "pissoff \n",
        "poop\n",
        "porn\n",
        "porno\n",
        "pornography\n",
        "pornos\n",
        "prick\n",
        "pricks \n",
        "pron\n",
        "pube\n",
        "pusse\n",
        "pussi\n",
        "pussies\n",
        "pussy\n",
        "pussys \n",
        "rectum\n",
        "retard\n",
        "rimjaw\n",
        "rimming\n",
        "s hit\n",
        "s.o.b.\n",
        "sadist\n",
        "schlong\n",
        "screwing\n",
        "scroat\n",
        "scrote\n",
        "scrotum\n",
        "semen\n",
        "sex\n",
        "sh!+\n",
        "sh!t\n",
        "sh1t\n",
        "shag\n",
        "shagger\n",
        "shaggin\n",
        "shagging\n",
        "shemale\n",
        "shi+\n",
        "shit\n",
        "shitdick\n",
        "shite\n",
        "shited\n",
        "shitey\n",
        "shitfuck\n",
        "shitfull\n",
        "shithead\n",
        "shiting\n",
        "shitings\n",
        "shits\n",
        "shitted\n",
        "shitter\n",
        "shitters \n",
        "shitting\n",
        "shittings\n",
        "shitty \n",
        "skank\n",
        "slut\n",
        "sluts\n",
        "smegma\n",
        "smut\n",
        "snatch\n",
        "son-of-a-bitch\n",
        "spac\n",
        "spunk\n",
        "s_h_i_t\n",
        "t1tt1e5\n",
        "t1tties\n",
        "teets\n",
        "teez\n",
        "testical\n",
        "testicle\n",
        "tit\n",
        "titfuck\n",
        "tits\n",
        "titt\n",
        "tittie5\n",
        "tittiefucker\n",
        "titties\n",
        "tittyfuck\n",
        "tittywank\n",
        "titwank\n",
        "tosser\n",
        "turd\n",
        "tw4t\n",
        "twat\n",
        "twathead\n",
        "twatty\n",
        "twunt\n",
        "twunter\n",
        "v14gra\n",
        "v1gra\n",
        "vagina\n",
        "viagra\n",
        "vulva\n",
        "w00se\n",
        "wang\n",
        "wank\n",
        "wanker\n",
        "wanky\n",
        "whoar\n",
        "whore\n",
        "willies\n",
        "willy\n",
        "xrated\n",
        "xxx'''"
      ],
      "execution_count": 60,
      "outputs": []
    },
    {
      "cell_type": "code",
      "metadata": {
        "id": "q_eJYgQYWEif"
      },
      "source": [
        "text = s.split(\"\\n\")[1:]\n",
        "sample = r\"\"\"but I tell you, don’t swear at all: neither\n",
        "by heaven, for it is the throne of God; — Matthew 5:34\"\"\"\n",
        "\n",
        "words = re.split(\"[\\s.,!?:;'\\\"-]+\", sample)"
      ],
      "execution_count": 67,
      "outputs": []
    },
    {
      "cell_type": "markdown",
      "metadata": {
        "id": "B9tXqiAwWPvS"
      },
      "source": [
        "4.\n",
        "Using reduce functions:"
      ]
    },
    {
      "cell_type": "code",
      "metadata": {
        "id": "XMLFRGCo4NbN",
        "outputId": "b969fd93-920e-411e-edd1-b02881b4bd88",
        "colab": {
          "base_uri": "https://localhost:8080/"
        }
      },
      "source": [
        "# * add only even numbers in a list\n",
        "l = [1,4,5,6]\n",
        "f= lambda x: x % 2 == 0\n",
        "print(reduce(lambda x, y: x+y, list(filter(f, l))))"
      ],
      "execution_count": 44,
      "outputs": [
        {
          "output_type": "stream",
          "text": [
            "10\n"
          ],
          "name": "stdout"
        }
      ]
    },
    {
      "cell_type": "code",
      "metadata": {
        "id": "5QT-Ff2dWTNA",
        "outputId": "5b349ac9-5abc-4558-fd03-81b409971b0c",
        "colab": {
          "base_uri": "https://localhost:8080/"
        }
      },
      "source": [
        "# * find the biggest character in a string (printable ascii characters)\n",
        "s = \"biggest\"\n",
        "print(reduce(lambda x, y: x if ord(x) > ord(y) else y, s))"
      ],
      "execution_count": 49,
      "outputs": [
        {
          "output_type": "stream",
          "text": [
            "t\n"
          ],
          "name": "stdout"
        }
      ]
    },
    {
      "cell_type": "code",
      "metadata": {
        "id": "6O5Cnha0WUvA",
        "outputId": "15e40d24-0144-422b-f881-743cdfd60dde",
        "colab": {
          "base_uri": "https://localhost:8080/"
        }
      },
      "source": [
        "# * adds every 3rd number in a list\n",
        "l = [1,4,5,6,7,9]\n",
        "print(reduce(lambda x, y: x+y, l[2::3]))"
      ],
      "execution_count": 52,
      "outputs": [
        {
          "output_type": "stream",
          "text": [
            "14\n"
          ],
          "name": "stdout"
        }
      ]
    }
  ]
}